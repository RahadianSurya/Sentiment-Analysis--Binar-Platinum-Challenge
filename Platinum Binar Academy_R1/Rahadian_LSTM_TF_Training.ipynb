{
 "cells": [
  {
   "cell_type": "code",
   "execution_count": 1,
   "id": "27c959cd",
   "metadata": {
    "ExecuteTime": {
     "end_time": "2023-03-13T07:39:30.770854Z",
     "start_time": "2023-03-13T07:39:27.705938Z"
    }
   },
   "outputs": [
    {
     "data": {
      "text/plain": [
       "[PhysicalDevice(name='/physical_device:GPU:0', device_type='GPU')]"
      ]
     },
     "execution_count": 1,
     "metadata": {},
     "output_type": "execute_result"
    }
   ],
   "source": [
    "import tensorflow as tf\n",
    "tf.config.list_physical_devices('GPU')"
   ]
  },
  {
   "cell_type": "code",
   "execution_count": 2,
   "id": "83bbbf5b",
   "metadata": {
    "ExecuteTime": {
     "end_time": "2023-03-13T07:39:33.116149Z",
     "start_time": "2023-03-13T07:39:31.682872Z"
    }
   },
   "outputs": [
    {
     "name": "stderr",
     "output_type": "stream",
     "text": [
      "[nltk_data] Downloading package stopwords to\n",
      "[nltk_data]     C:\\Users\\rahad\\AppData\\Roaming\\nltk_data...\n",
      "[nltk_data]   Package stopwords is already up-to-date!\n"
     ]
    }
   ],
   "source": [
    "import numpy as np # linear algebra\n",
    "import pandas as pd # data processing\n",
    "import os\n",
    "import tweepy as tw #for accessing Twitter API\n",
    "\n",
    "\n",
    "#For Preprocessing\n",
    "import re    # RegEx for removing non-letter characters\n",
    "import nltk  #natural language processing\n",
    "nltk.download(\"stopwords\")\n",
    "from nltk.corpus import stopwords\n",
    "from nltk.stem.porter import *\n",
    "\n",
    "# For Building the model\n",
    "from sklearn.model_selection import train_test_split\n",
    "import tensorflow as tf\n",
    "import seaborn as sns\n",
    "\n",
    "#For data visualization\n",
    "import matplotlib.pyplot as plt\n",
    "import matplotlib.patches as mpatches\n",
    "%matplotlib inline\n",
    "\n",
    "pd.options.plotting.backend = \"plotly\""
   ]
  },
  {
   "cell_type": "code",
   "execution_count": 3,
   "id": "1830b696",
   "metadata": {
    "ExecuteTime": {
     "end_time": "2023-03-13T07:39:33.662960Z",
     "start_time": "2023-03-13T07:39:33.606920Z"
    },
    "scrolled": true
   },
   "outputs": [
    {
     "data": {
      "text/html": [
       "<div>\n",
       "<style scoped>\n",
       "    .dataframe tbody tr th:only-of-type {\n",
       "        vertical-align: middle;\n",
       "    }\n",
       "\n",
       "    .dataframe tbody tr th {\n",
       "        vertical-align: top;\n",
       "    }\n",
       "\n",
       "    .dataframe thead th {\n",
       "        text-align: right;\n",
       "    }\n",
       "</style>\n",
       "<table border=\"1\" class=\"dataframe\">\n",
       "  <thead>\n",
       "    <tr style=\"text-align: right;\">\n",
       "      <th></th>\n",
       "      <th>text</th>\n",
       "      <th>sentiment</th>\n",
       "    </tr>\n",
       "  </thead>\n",
       "  <tbody>\n",
       "    <tr>\n",
       "      <th>0</th>\n",
       "      <td>warung ini dimiliki oleh pengusaha pabrik tahu...</td>\n",
       "      <td>positive</td>\n",
       "    </tr>\n",
       "    <tr>\n",
       "      <th>1</th>\n",
       "      <td>mohon ulama lurus dan k212 mmbri hujjah partai...</td>\n",
       "      <td>neutral</td>\n",
       "    </tr>\n",
       "    <tr>\n",
       "      <th>2</th>\n",
       "      <td>lokasi strategis di jalan sumatera bandung . t...</td>\n",
       "      <td>positive</td>\n",
       "    </tr>\n",
       "    <tr>\n",
       "      <th>3</th>\n",
       "      <td>betapa bahagia nya diri ini saat unboxing pake...</td>\n",
       "      <td>positive</td>\n",
       "    </tr>\n",
       "    <tr>\n",
       "      <th>4</th>\n",
       "      <td>duh . jadi mahasiswa jangan sombong dong . kas...</td>\n",
       "      <td>negative</td>\n",
       "    </tr>\n",
       "    <tr>\n",
       "      <th>...</th>\n",
       "      <td>...</td>\n",
       "      <td>...</td>\n",
       "    </tr>\n",
       "    <tr>\n",
       "      <th>10993</th>\n",
       "      <td>f - demokrat dorong upaya kemandirian energi n...</td>\n",
       "      <td>neutral</td>\n",
       "    </tr>\n",
       "    <tr>\n",
       "      <th>10994</th>\n",
       "      <td>tidak bosan</td>\n",
       "      <td>positive</td>\n",
       "    </tr>\n",
       "    <tr>\n",
       "      <th>10996</th>\n",
       "      <td>enak rasa masakan nya apalagi kepiting yang me...</td>\n",
       "      <td>positive</td>\n",
       "    </tr>\n",
       "    <tr>\n",
       "      <th>10998</th>\n",
       "      <td>pagi pagi di tol pasteur sudah macet parah , b...</td>\n",
       "      <td>negative</td>\n",
       "    </tr>\n",
       "    <tr>\n",
       "      <th>10999</th>\n",
       "      <td>meskipun sering belanja ke yogya di riau junct...</td>\n",
       "      <td>positive</td>\n",
       "    </tr>\n",
       "  </tbody>\n",
       "</table>\n",
       "<p>10933 rows × 2 columns</p>\n",
       "</div>"
      ],
      "text/plain": [
       "                                                    text sentiment\n",
       "0      warung ini dimiliki oleh pengusaha pabrik tahu...  positive\n",
       "1      mohon ulama lurus dan k212 mmbri hujjah partai...   neutral\n",
       "2      lokasi strategis di jalan sumatera bandung . t...  positive\n",
       "3      betapa bahagia nya diri ini saat unboxing pake...  positive\n",
       "4      duh . jadi mahasiswa jangan sombong dong . kas...  negative\n",
       "...                                                  ...       ...\n",
       "10993  f - demokrat dorong upaya kemandirian energi n...   neutral\n",
       "10994                                        tidak bosan  positive\n",
       "10996  enak rasa masakan nya apalagi kepiting yang me...  positive\n",
       "10998  pagi pagi di tol pasteur sudah macet parah , b...  negative\n",
       "10999  meskipun sering belanja ke yogya di riau junct...  positive\n",
       "\n",
       "[10933 rows x 2 columns]"
      ]
     },
     "execution_count": 3,
     "metadata": {},
     "output_type": "execute_result"
    }
   ],
   "source": [
    "df = pd.read_table(r\"C:\\Users\\rahad\\OneDrive\\Documents\\Binar Machine Learning - Platinum\\Challenge Platinum\\train_preprocess.tsv.txt\",header=None)\n",
    "df.columns = ['text','sentiment']\n",
    "df = df.drop_duplicates()\n",
    "df"
   ]
  },
  {
   "cell_type": "code",
   "execution_count": 4,
   "id": "d79df0f2",
   "metadata": {
    "ExecuteTime": {
     "end_time": "2023-03-13T07:39:35.267070Z",
     "start_time": "2023-03-13T07:39:35.258693Z"
    }
   },
   "outputs": [],
   "source": [
    "#Create Stopwords\n",
    "list_stopwords = stopwords.words('indonesian')\n",
    "list_stopwords_en = stopwords.words('english')\n",
    "list_stopwords.extend(list_stopwords_en)\n",
    "list_stopwords.extend(['ya', 'yg', 'ga', 'yuk', 'dah', 'baiknya', 'berkali', 'kali', 'kurangnya', 'mata', 'olah', 'sekurang', 'setidak', 'tama', 'tidaknya'])\n",
    "\n",
    "#External stopwords\n",
    "f = open('stopwords/tala-stopwords-indonesia.txt', 'r')\n",
    "stopword_external = []\n",
    "for line in f:\n",
    "    stripped_line = line.strip()\n",
    "    line_list = stripped_line.split()\n",
    "    stopword_external.append(line_list[0])\n",
    "f.close()\n",
    "list_stopwords.extend(stopword_external)\n",
    "\n",
    "stopwords = list_stopwords"
   ]
  },
  {
   "cell_type": "code",
   "execution_count": 5,
   "id": "c0135bdd",
   "metadata": {
    "ExecuteTime": {
     "end_time": "2023-03-13T07:39:36.383091Z",
     "start_time": "2023-03-13T07:39:36.353001Z"
    }
   },
   "outputs": [],
   "source": [
    "alay = pd.read_csv('data/new_kamusalay.csv' , encoding=\"latin-1\", header=None)\n",
    "alay_dict = dict(zip(alay[0], alay[1]))"
   ]
  },
  {
   "cell_type": "code",
   "execution_count": 6,
   "id": "b890034c",
   "metadata": {
    "ExecuteTime": {
     "end_time": "2023-03-13T07:39:36.859885Z",
     "start_time": "2023-03-13T07:39:36.846127Z"
    }
   },
   "outputs": [],
   "source": [
    "#Creating Function for Cleansing Process\n",
    "def lowercase(text):\n",
    "    return text.lower()\n",
    "\n",
    "def special(text):\n",
    "    text = re.sub(r'\\W', ' ', str(text), flags=re.MULTILINE)\n",
    "    return text\n",
    "\n",
    "def single(text):\n",
    "    text = re.sub(r'\\s+[a-zA-Z]\\s+', ' ', text, flags=re.MULTILINE)\n",
    "    return text\n",
    "\n",
    "def singlestart(text):\n",
    "    text = re.sub(r'\\^[a-zA-Z]\\s+', ' ', text, flags=re.MULTILINE)\n",
    "    return text\n",
    "\n",
    "def mulspace(text):\n",
    "    text = re.sub(r'\\s+', ' ', text, flags=re.MULTILINE)\n",
    "    return text\n",
    "\n",
    "#Removing RT\n",
    "def rt(text):\n",
    "    text = re.sub(r'rt @\\w+: ', ' ', text, flags=re.MULTILINE)\n",
    "    return text\n",
    "\n",
    "#Removing prefixed 'b'\n",
    "def prefixedb(text):\n",
    "    text = re.sub(r'^b\\s+', '', text, flags=re.MULTILINE)\n",
    "    return text\n",
    "\n",
    "def misc(text):\n",
    "    text = re.sub(r'((www\\.[^\\s]+)|(https?://[^\\s]+)|(http?://[^\\s]+))|([#@]\\S+)|user|\\n|\\t', ' ', text, flags=re.MULTILINE)\n",
    "    return text\n",
    "\n",
    "#Mapping for kamusalay\n",
    "alay_mapping = alay_dict\n",
    "def alay(text):\n",
    "    wordlist = text.split()\n",
    "    text_alay = [alay_mapping.get(x,x) for x in wordlist]\n",
    "    clean_alay = ' '.join(text_alay)\n",
    "    return clean_alay\n",
    "\n",
    "# Stopwords fuction\n",
    "def stopwrds(text): \n",
    "    text_tokens = word_tokenize(text)\n",
    "    tokens_without_sw = [word for word in text_tokens if word not in stopwords]\n",
    "    output_sw = ' '.join(tokens_without_sw)\n",
    "    return output_sw\n",
    "\n",
    "#Function for text cleansing\n",
    "def cleansing(text):\n",
    "    text = lowercase(text)\n",
    "    text = special(text)\n",
    "    text = singlestart(text)\n",
    "    text = mulspace(text)\n",
    "    text = rt(text)\n",
    "    text = prefixedb(text)\n",
    "    text = misc(text)\n",
    "    text = alay(text)\n",
    "#     text = stopwrds(text)\n",
    "    return text\n",
    "def cleansing_with_SW(text):\n",
    "    text = lowercase(text)\n",
    "    text = special(text)\n",
    "    text = singlestart(text)\n",
    "    text = mulspace(text)\n",
    "    text = rt(text)\n",
    "    text = prefixedb(text)\n",
    "    text = misc(text)\n",
    "    text = alay(text)\n",
    "    text = stopwrds(text)\n",
    "    return text"
   ]
  },
  {
   "cell_type": "code",
   "execution_count": 8,
   "id": "14b44a9f",
   "metadata": {
    "ExecuteTime": {
     "end_time": "2023-03-13T07:39:39.701725Z",
     "start_time": "2023-03-13T07:39:39.320703Z"
    }
   },
   "outputs": [],
   "source": [
    "df['text_clean'] = df.text.apply(cleansing)"
   ]
  },
  {
   "cell_type": "code",
   "execution_count": 9,
   "id": "4ed07fe7",
   "metadata": {
    "ExecuteTime": {
     "end_time": "2023-03-13T07:39:41.840994Z",
     "start_time": "2023-03-13T07:39:41.446581Z"
    }
   },
   "outputs": [
    {
     "name": "stdout",
     "output_type": "stream",
     "text": [
      "Wall time: 379 ms\n"
     ]
    }
   ],
   "source": [
    "%%time\n",
    "# Apply data processing to each tweet\n",
    "X = list(map(cleansing, df['text']))"
   ]
  },
  {
   "cell_type": "code",
   "execution_count": 10,
   "id": "afa74a55",
   "metadata": {
    "ExecuteTime": {
     "end_time": "2023-03-13T07:39:42.674908Z",
     "start_time": "2023-03-13T07:39:42.611855Z"
    }
   },
   "outputs": [],
   "source": [
    "y = pd.get_dummies(df['sentiment'])\n",
    "X_train, X_test, y_train, y_test = train_test_split(X, y, test_size=0.2,stratify=y, random_state=1)\n",
    "X_train, X_val, y_train, y_val = train_test_split(X_train, y_train, test_size=0.25, random_state=1)"
   ]
  },
  {
   "cell_type": "code",
   "execution_count": 11,
   "id": "86affb6b",
   "metadata": {
    "ExecuteTime": {
     "end_time": "2023-03-13T07:39:43.089250Z",
     "start_time": "2023-03-13T07:39:43.068850Z"
    }
   },
   "outputs": [
    {
     "name": "stdout",
     "output_type": "stream",
     "text": [
      "Pos: 6383, Neu: 1138, Neg: 3412\n",
      "Total data: 10933\n"
     ]
    }
   ],
   "source": [
    "neg = df.loc[df['sentiment'] == 'negative'].text_clean.tolist()\n",
    "neu = df.loc[df['sentiment'] == 'neutral'].text_clean.tolist()\n",
    "pos = df.loc[df['sentiment'] == 'positive'].text_clean.tolist()\n",
    "\n",
    "neg_label = df.loc[df['sentiment'] == 'negative'].sentiment.tolist()\n",
    "neu_label = df.loc[df['sentiment'] == 'neutral'].sentiment.tolist()\n",
    "pos_label = df.loc[df['sentiment'] == 'positive'].sentiment.tolist()\n",
    "total_data = pos + neu + neg\n",
    "labels = pos_label + neu_label + neg_label\n",
    "\n",
    "print(\"Pos: %s, Neu: %s, Neg: %s\" % (len(pos), len(neu), len(neg)))\n",
    "print(\"Total data: %s\" % len(total_data))"
   ]
  },
  {
   "cell_type": "code",
   "execution_count": 12,
   "id": "9f881bec",
   "metadata": {
    "ExecuteTime": {
     "end_time": "2023-03-13T07:39:46.621680Z",
     "start_time": "2023-03-13T07:39:46.228354Z"
    }
   },
   "outputs": [
    {
     "name": "stdout",
     "output_type": "stream",
     "text": [
      "tokenizer.pickle has created!\n",
      "x_pad_sequences.pickle has created!\n"
     ]
    }
   ],
   "source": [
    "import pickle\n",
    "from tensorflow.keras.preprocessing.text import Tokenizer\n",
    "from tensorflow.keras.preprocessing.sequence import pad_sequences\n",
    "from collections import defaultdict\n",
    "\n",
    "max_features = 100000\n",
    "tokenizer = Tokenizer(num_words=max_features, split=' ', lower=True)\n",
    "tokenizer.fit_on_texts(total_data)\n",
    "with open('tokenizer.pickle', 'wb') as handle:\n",
    "    pickle.dump(tokenizer, handle, protocol=pickle.HIGHEST_PROTOCOL)\n",
    "    print(\"tokenizer.pickle has created!\")\n",
    "\n",
    "X = tokenizer.texts_to_sequences(total_data)\n",
    "\n",
    "vocab_size = len(tokenizer.word_index)\n",
    "maxlen = max(len(x) for x in X)\n",
    "\n",
    "X = pad_sequences(X)\n",
    "with open('x_pad_sequences.pickle', 'wb') as handle:\n",
    "    pickle.dump(X, handle, protocol=pickle.HIGHEST_PROTOCOL)\n",
    "    print(\"x_pad_sequences.pickle has created!\")"
   ]
  },
  {
   "cell_type": "code",
   "execution_count": 13,
   "id": "70b78568",
   "metadata": {
    "ExecuteTime": {
     "end_time": "2023-03-13T07:39:49.583131Z",
     "start_time": "2023-03-13T07:39:49.567505Z"
    }
   },
   "outputs": [
    {
     "name": "stdout",
     "output_type": "stream",
     "text": [
      "y_labels.pickle has created!\n"
     ]
    }
   ],
   "source": [
    "Y = pd.get_dummies(labels)\n",
    "Y = Y.values\n",
    "\n",
    "with open('y_labels.pickle', 'wb') as handle:\n",
    "    pickle.dump(Y, handle, protocol=pickle.HIGHEST_PROTOCOL)\n",
    "    print(\"y_labels.pickle has created!\")"
   ]
  },
  {
   "cell_type": "code",
   "execution_count": 14,
   "id": "820970f7",
   "metadata": {
    "ExecuteTime": {
     "end_time": "2023-03-13T07:39:50.707951Z",
     "start_time": "2023-03-13T07:39:50.649583Z"
    }
   },
   "outputs": [],
   "source": [
    "from sklearn.model_selection import train_test_split\n",
    "\n",
    "file = open(\"x_pad_sequences.pickle\",'rb')\n",
    "X = pickle.load(file)\n",
    "file.close()\n",
    "\n",
    "file = open(\"y_labels.pickle\",'rb')\n",
    "Y = pickle.load(file)\n",
    "file.close()\n",
    "\n",
    "X_train, X_test, y_train, y_test = train_test_split(X, Y, test_size=0.2,stratify=Y, random_state=1)"
   ]
  },
  {
   "cell_type": "code",
   "execution_count": 15,
   "id": "c047d912",
   "metadata": {
    "ExecuteTime": {
     "end_time": "2023-03-13T07:39:52.871123Z",
     "start_time": "2023-03-13T07:39:52.855277Z"
    }
   },
   "outputs": [],
   "source": [
    "import numpy as np\n",
    "from tensorflow.keras import layers\n",
    "from tensorflow.keras.models import Sequential\n",
    "from tensorflow.keras.layers import Dense, Embedding, LSTM, SpatialDropout1D, SimpleRNN, Activation\n",
    "from tensorflow.keras import optimizers\n",
    "from tensorflow.keras.callbacks import EarlyStopping, TensorBoard\n",
    "from tensorflow.keras.layers import Flatten\n",
    "from tensorflow.keras import backend as K"
   ]
  },
  {
   "cell_type": "code",
   "execution_count": 16,
   "id": "ec812627",
   "metadata": {
    "ExecuteTime": {
     "end_time": "2023-03-13T07:39:53.331354Z",
     "start_time": "2023-03-13T07:39:53.319848Z"
    }
   },
   "outputs": [
    {
     "name": "stdout",
     "output_type": "stream",
     "text": [
      "Num GPUs Available:  1\n"
     ]
    }
   ],
   "source": [
    "import tensorflow as tf\n",
    "print(\"Num GPUs Available: \", len(tf.config.list_physical_devices('GPU')))\n"
   ]
  },
  {
   "cell_type": "code",
   "execution_count": 46,
   "id": "e5755901",
   "metadata": {
    "ExecuteTime": {
     "end_time": "2023-03-13T07:52:57.140877Z",
     "start_time": "2023-03-13T07:52:08.030046Z"
    }
   },
   "outputs": [
    {
     "name": "stdout",
     "output_type": "stream",
     "text": [
      "Model: \"sequential_3\"\n",
      "_________________________________________________________________\n",
      " Layer (type)                Output Shape              Param #   \n",
      "=================================================================\n",
      " embedding_3 (Embedding)     (None, 96, 64)            6400000   \n",
      "                                                                 \n",
      " lstm_3 (LSTM)               (None, 16)                5184      \n",
      "                                                                 \n",
      " dense_3 (Dense)             (None, 3)                 51        \n",
      "                                                                 \n",
      "=================================================================\n",
      "Total params: 6,405,235\n",
      "Trainable params: 6,405,235\n",
      "Non-trainable params: 0\n",
      "_________________________________________________________________\n",
      "None\n",
      "Epoch 1/32\n",
      "137/137 [==============================] - 8s 39ms/step - loss: 0.9246 - accuracy: 0.6188 - val_loss: 0.7097 - val_accuracy: 0.7270\n",
      "Epoch 2/32\n",
      "137/137 [==============================] - 4s 32ms/step - loss: 0.6247 - accuracy: 0.7705 - val_loss: 0.5745 - val_accuracy: 0.7865\n",
      "Epoch 3/32\n",
      "137/137 [==============================] - 4s 32ms/step - loss: 0.4797 - accuracy: 0.8208 - val_loss: 0.4921 - val_accuracy: 0.8148\n",
      "Epoch 4/32\n",
      "137/137 [==============================] - 4s 33ms/step - loss: 0.3793 - accuracy: 0.8871 - val_loss: 0.4688 - val_accuracy: 0.8313\n",
      "Epoch 5/32\n",
      "137/137 [==============================] - 4s 32ms/step - loss: 0.3183 - accuracy: 0.9219 - val_loss: 0.4491 - val_accuracy: 0.8720\n",
      "Epoch 6/32\n",
      "137/137 [==============================] - 4s 32ms/step - loss: 0.2790 - accuracy: 0.9436 - val_loss: 0.4474 - val_accuracy: 0.8747\n",
      "Epoch 7/32\n",
      "137/137 [==============================] - 4s 32ms/step - loss: 0.2459 - accuracy: 0.9548 - val_loss: 0.4450 - val_accuracy: 0.8729\n",
      "Epoch 8/32\n",
      "137/137 [==============================] - 4s 32ms/step - loss: 0.2189 - accuracy: 0.9632 - val_loss: 0.4575 - val_accuracy: 0.8683\n",
      "Epoch 9/32\n",
      "137/137 [==============================] - 4s 31ms/step - loss: 0.2015 - accuracy: 0.9675 - val_loss: 0.4497 - val_accuracy: 0.8765\n",
      "Epoch 10/32\n",
      "136/137 [============================>.] - ETA: 0s - loss: 0.1835 - accuracy: 0.9719Restoring model weights from the end of the best epoch: 7.\n",
      "137/137 [==============================] - 4s 32ms/step - loss: 0.1838 - accuracy: 0.9718 - val_loss: 0.4592 - val_accuracy: 0.8729\n",
      "Epoch 10: early stopping\n"
     ]
    }
   ],
   "source": [
    "from tensorflow.keras import regularizers\n",
    "reg=regularizers.L1L2(l1=0.0008, l2=9e-3)\n",
    "\n",
    "embed_dim = 64\n",
    "units = 16\n",
    "\n",
    "model = Sequential()\n",
    "model.add(Embedding(max_features, embed_dim, input_length=X.shape[1]))\n",
    "model.add(LSTM(units,dropout=0.8))\n",
    "model.add(Dense(3,kernel_regularizer=reg,activation='softmax',))\n",
    "model.compile(loss = 'binary_crossentropy', optimizer='adam',metrics = ['accuracy',])\n",
    "print(model.summary())\n",
    "\n",
    "adam = optimizers.Adam(learning_rate = 0.0004,amsgrad=True)\n",
    "model.compile(loss = 'categorical_crossentropy', optimizer = adam, metrics = ['accuracy'])\n",
    "\n",
    "es = EarlyStopping(monitor='val_loss', patience=3,mode='min', verbose=1,restore_best_weights=True)\n",
    "history = model.fit(X_train, y_train, epochs=32, batch_size=64, validation_data=(X_test, y_test), verbose=1, callbacks=[es])"
   ]
  },
  {
   "cell_type": "code",
   "execution_count": 47,
   "id": "cdd2be66",
   "metadata": {
    "ExecuteTime": {
     "end_time": "2023-03-13T07:55:10.905294Z",
     "start_time": "2023-03-13T07:55:10.300336Z"
    }
   },
   "outputs": [
    {
     "data": {
      "image/png": "[encoded data removed]",
      "text/plain": [
       "<Figure size 1200x500 with 2 Axes>"
      ]
     },
     "metadata": {},
     "output_type": "display_data"
    }
   ],
   "source": [
    "plot_history(history)"
   ]
  },
  {
   "cell_type": "code",
   "execution_count": 48,
   "id": "df4d8c41",
   "metadata": {
    "ExecuteTime": {
     "end_time": "2023-03-13T07:55:16.467595Z",
     "start_time": "2023-03-13T07:55:14.268343Z"
    }
   },
   "outputs": [
    {
     "name": "stdout",
     "output_type": "stream",
     "text": [
      "69/69 [==============================] - 1s 11ms/step\n",
      "Testing selesai\n",
      "              precision    recall  f1-score   support\n",
      "\n",
      "           0       0.78      0.88      0.83       682\n",
      "           1       0.91      0.70      0.79       228\n",
      "           2       0.92      0.90      0.91      1277\n",
      "\n",
      "    accuracy                           0.87      2187\n",
      "   macro avg       0.87      0.83      0.84      2187\n",
      "weighted avg       0.88      0.87      0.87      2187\n",
      "\n"
     ]
    }
   ],
   "source": [
    "from sklearn import metrics\n",
    "\n",
    "predictions = model.predict(X_test)\n",
    "y_pred = predictions\n",
    "matrix_test = metrics.classification_report(y_test.argmax(axis=1), y_pred.argmax(axis=1))\n",
    "print(\"Testing selesai\")\n",
    "print(matrix_test)"
   ]
  },
  {
   "cell_type": "code",
   "execution_count": 26,
   "id": "8cbea4ad",
   "metadata": {
    "ExecuteTime": {
     "end_time": "2023-03-13T07:43:41.279235Z",
     "start_time": "2023-03-13T07:43:40.721987Z"
    }
   },
   "outputs": [
    {
     "name": "stdout",
     "output_type": "stream",
     "text": [
      "69/69 [==============================] - 0s 5ms/step\n"
     ]
    },
    {
     "data": {
      "image/png": "[encoded data removed]",
      "text/plain": [
       "<Figure size 800x600 with 2 Axes>"
      ]
     },
     "metadata": {},
     "output_type": "display_data"
    }
   ],
   "source": [
    "from sklearn.metrics import confusion_matrix\n",
    "\n",
    "def plot_confusion_matrix(model, X_test, y_test):\n",
    "    '''Function to plot confusion matrix for the passed model and the data'''\n",
    "    \n",
    "    sentiment_classes = ['Negative', 'Neutral', 'Positive']\n",
    "    # use model to do the prediction\n",
    "    y_pred = model.predict(X_test)\n",
    "    # compute confusion matrix\n",
    "    cm = confusion_matrix(np.argmax(np.array(y_test),axis=1), np.argmax(y_pred, axis=1))\n",
    "    # plot confusion matrix\n",
    "    plt.figure(figsize=(8,6))\n",
    "    sns.heatmap(cm, cmap=plt.cm.Blues, annot=True, fmt='d', \n",
    "                xticklabels=sentiment_classes,\n",
    "                yticklabels=sentiment_classes)\n",
    "    plt.title('Confusion matrix', fontsize=16)\n",
    "    plt.xlabel('Actual label', fontsize=12)\n",
    "    plt.ylabel('Predicted label', fontsize=12)\n",
    "    \n",
    "plot_confusion_matrix(model, X_test, y_test)"
   ]
  },
  {
   "cell_type": "code",
   "execution_count": 19,
   "id": "c308aebb",
   "metadata": {
    "ExecuteTime": {
     "end_time": "2023-03-13T07:41:18.312223Z",
     "start_time": "2023-03-13T07:41:17.965272Z"
    }
   },
   "outputs": [
    {
     "data": {
      "image/png": "[encoded data removed]",
      "text/plain": [
       "<Figure size 1200x500 with 2 Axes>"
      ]
     },
     "metadata": {},
     "output_type": "display_data"
    }
   ],
   "source": [
    "# history.history\n",
    "import matplotlib.pyplot as plt\n",
    "plt.style.use('ggplot')\n",
    "\n",
    "def plot_history(history):\n",
    "    acc = history.history['accuracy']\n",
    "    val_acc = history.history['val_accuracy']\n",
    "    loss = history.history['loss']\n",
    "    val_loss = history.history['val_loss']\n",
    "    x = range(1, len(acc) + 1)\n",
    "\n",
    "    plt.figure(figsize=(12, 5))\n",
    "    plt.subplot(1, 2, 1)\n",
    "    plt.plot(x, acc, 'b', label='Training acc')\n",
    "    plt.plot(x, val_acc, 'r', label='Validation acc')\n",
    "    plt.title('Training and validation accuracy')\n",
    "    plt.legend()\n",
    "    plt.subplot(1, 2, 2)\n",
    "    plt.plot(x, loss, 'b', label='Training loss')\n",
    "    plt.plot(x, val_loss, 'r', label='Validation loss')\n",
    "    plt.title('Training and validation loss')\n",
    "    plt.legend()\n",
    "\n",
    "%matplotlib inline\n",
    "plot_history(history)"
   ]
  },
  {
   "cell_type": "code",
   "execution_count": 165,
   "id": "d93c6817",
   "metadata": {
    "ExecuteTime": {
     "end_time": "2023-03-13T07:38:27.673560Z",
     "start_time": "2023-03-13T07:35:59.499725Z"
    }
   },
   "outputs": [
    {
     "name": "stdout",
     "output_type": "stream",
     "text": [
      "69/69 [==============================] - 0s 3ms/step\n",
      "Training ke- 1\n",
      "              precision    recall  f1-score   support\n",
      "\n",
      "           0       0.80      0.85      0.83       682\n",
      "           1       0.87      0.79      0.83       228\n",
      "           2       0.92      0.90      0.91      1277\n",
      "\n",
      "    accuracy                           0.88      2187\n",
      "   macro avg       0.86      0.85      0.86      2187\n",
      "weighted avg       0.88      0.88      0.88      2187\n",
      "\n",
      "======================================================\n",
      "69/69 [==============================] - 0s 3ms/step\n",
      "Training ke- 2\n",
      "              precision    recall  f1-score   support\n",
      "\n",
      "           0       0.79      0.89      0.83       682\n",
      "           1       0.90      0.75      0.82       228\n",
      "           2       0.93      0.90      0.92      1277\n",
      "\n",
      "    accuracy                           0.88      2187\n",
      "   macro avg       0.87      0.85      0.86      2187\n",
      "weighted avg       0.88      0.88      0.88      2187\n",
      "\n",
      "======================================================\n",
      "69/69 [==============================] - 0s 4ms/step\n",
      "Training ke- 3\n",
      "              precision    recall  f1-score   support\n",
      "\n",
      "           0       0.82      0.87      0.84       682\n",
      "           1       0.87      0.79      0.82       228\n",
      "           2       0.92      0.91      0.92      1277\n",
      "\n",
      "    accuracy                           0.88      2187\n",
      "   macro avg       0.87      0.85      0.86      2187\n",
      "weighted avg       0.89      0.88      0.88      2187\n",
      "\n",
      "======================================================\n",
      "69/69 [==============================] - 0s 3ms/step\n",
      "Training ke- 4\n",
      "              precision    recall  f1-score   support\n",
      "\n",
      "           0       0.83      0.83      0.83       682\n",
      "           1       0.91      0.70      0.79       228\n",
      "           2       0.90      0.94      0.92      1277\n",
      "\n",
      "    accuracy                           0.88      2187\n",
      "   macro avg       0.88      0.82      0.85      2187\n",
      "weighted avg       0.88      0.88      0.88      2187\n",
      "\n",
      "======================================================\n",
      "69/69 [==============================] - 0s 4ms/step\n",
      "Training ke- 5\n",
      "              precision    recall  f1-score   support\n",
      "\n",
      "           0       0.75      0.91      0.82       682\n",
      "           1       0.89      0.72      0.80       228\n",
      "           2       0.95      0.87      0.91      1277\n",
      "\n",
      "    accuracy                           0.87      2187\n",
      "   macro avg       0.86      0.84      0.84      2187\n",
      "weighted avg       0.88      0.87      0.87      2187\n",
      "\n",
      "======================================================\n",
      "\n",
      "\n",
      "\n",
      "Rata-rata Accuracy:  0.877366255144033\n"
     ]
    }
   ],
   "source": [
    "# Untuk lebih menyakinkan lagi, kita juga bisa melakukan \"Cross Validation\"\n",
    "import numpy as np\n",
    "from sklearn.metrics import classification_report\n",
    "from sklearn.metrics import accuracy_score\n",
    "from sklearn.model_selection import KFold\n",
    "\n",
    "kf = KFold(n_splits=5,random_state=42,shuffle=True)\n",
    "\n",
    "accuracies = []\n",
    "\n",
    "y = Y\n",
    "\n",
    "embed_dim = 100\n",
    "units = 64\n",
    "\n",
    "for iteration, data in enumerate(kf.split(X), start=1):\n",
    "\n",
    "    data_train   = X[data[0]]\n",
    "    target_train = y[data[0]]\n",
    "\n",
    "    data_test    = X[data[1]]\n",
    "    target_test  = y[data[1]]\n",
    "\n",
    "\n",
    "    model = Sequential()\n",
    "    model.add(Embedding(max_features, embed_dim, input_length=X.shape[1]))\n",
    "    model.add(LSTM(units, dropout=0.3))\n",
    "    model.add(Dense(3,activation='softmax'))\n",
    "    model.compile(loss = 'binary_crossentropy', optimizer='adam',metrics = ['accuracy'])\n",
    "\n",
    "    adam = optimizers.Adam(learning_rate = 0.0003)\n",
    "    model.compile(loss = 'categorical_crossentropy', optimizer = adam, metrics = ['accuracy'])\n",
    "\n",
    "    es = EarlyStopping(monitor='val_accuracy', mode='max', verbose=0,restore_best_weights=True)\n",
    "    history = model.fit(X_train, y_train, epochs=10, batch_size=10, validation_data=(X_test, y_test), verbose=0, callbacks=[es])\n",
    "\n",
    "    predictions = model.predict(X_test)\n",
    "    y_pred = predictions\n",
    "\n",
    "    # for the current fold only    \n",
    "    accuracy = accuracy_score(y_test.argmax(axis=1), y_pred.argmax(axis=1))\n",
    "\n",
    "    print(\"Training ke-\", iteration)\n",
    "    print(classification_report(y_test.argmax(axis=1), y_pred.argmax(axis=1)))\n",
    "    print(\"======================================================\")\n",
    "\n",
    "    accuracies.append(accuracy)\n",
    "\n",
    "# this is the average accuracy over all folds\n",
    "average_accuracy = np.mean(accuracies)\n",
    "\n",
    "print()\n",
    "print()\n",
    "print()\n",
    "print(\"Rata-rata Accuracy: \", average_accuracy)"
   ]
  },
  {
   "cell_type": "code",
   "execution_count": 49,
   "id": "8f7771cd",
   "metadata": {
    "ExecuteTime": {
     "end_time": "2023-03-13T07:55:28.845294Z",
     "start_time": "2023-03-13T07:55:28.813722Z"
    }
   },
   "outputs": [],
   "source": [
    "def pred(input_text):\n",
    "    sentiment = ['negative', 'neutral', 'positive']\n",
    "\n",
    "    text = [cleansing(input_text)]\n",
    "    predicted = tokenizer.texts_to_sequences(text)\n",
    "    guess = pad_sequences(predicted, maxlen=96)\n",
    "\n",
    "    prediction = model.predict(guess)\n",
    "    polarity = np.argmax(prediction[0])\n",
    "    result = sentiment[polarity]\n",
    "    return result\n",
    "\n",
    "def cleansing(sent):\n",
    "    # Mengubah kata menjadi huruf kecil semua dengan menggunakan fungsi lower()\n",
    "    string = sent.lower()\n",
    "    # Menghapus emoticon dan tanda baca menggunakan \"RegEx\" dengan script di bawah\n",
    "    string = re.sub(r'[^a-zA-Z0-9]', ' ', string)\n",
    "    return string\n"
   ]
  },
  {
   "cell_type": "code",
   "execution_count": 50,
   "id": "a09452f5",
   "metadata": {
    "ExecuteTime": {
     "end_time": "2023-03-13T07:55:33.543026Z",
     "start_time": "2023-03-13T07:55:32.675620Z"
    }
   },
   "outputs": [
    {
     "name": "stdout",
     "output_type": "stream",
     "text": [
      "1/1 [==============================] - 0s 47ms/step\n"
     ]
    },
    {
     "data": {
      "text/plain": [
       "'negative'"
      ]
     },
     "execution_count": 50,
     "metadata": {},
     "output_type": "execute_result"
    }
   ],
   "source": [
    "pred('restoran nya enak, tapi sayang pelayanannya jelek')"
   ]
  },
  {
   "cell_type": "code",
   "execution_count": 37,
   "id": "65c2d3a0",
   "metadata": {
    "ExecuteTime": {
     "end_time": "2023-03-13T07:50:39.953218Z",
     "start_time": "2023-03-13T07:50:38.784050Z"
    }
   },
   "outputs": [
    {
     "name": "stdout",
     "output_type": "stream",
     "text": [
      "Model has created!\n"
     ]
    }
   ],
   "source": [
    "model.save('data/LSTM_887.h5')\n",
    "print(\"Model has created!\")"
   ]
  },
  {
   "cell_type": "code",
   "execution_count": 33,
   "id": "9df60757",
   "metadata": {
    "ExecuteTime": {
     "end_time": "2023-03-05T12:51:01.581377Z",
     "start_time": "2023-03-05T12:51:01.541408Z"
    }
   },
   "outputs": [
    {
     "name": "stdout",
     "output_type": "stream",
     "text": [
      "tokenizer.pickle has created!\n"
     ]
    }
   ],
   "source": [
    "with open(r'C:\\Users\\rahad\\Downloads\\Platinum Binar Academy\\data/tokenizer.pickle', 'wb') as handle:\n",
    "    pickle.dump(tokenizer, handle, protocol=pickle.HIGHEST_PROTOCOL)\n",
    "    print(\"tokenizer.pickle has created!\")\n"
   ]
  },
  {
   "cell_type": "markdown",
   "id": "126d59f6",
   "metadata": {
    "ExecuteTime": {
     "end_time": "2023-03-03T12:19:39.682919Z",
     "start_time": "2023-03-03T12:19:39.673177Z"
    }
   },
   "source": [
    "history.history"
   ]
  },
  {
   "cell_type": "code",
   "execution_count": 77,
   "id": "ce6050ab",
   "metadata": {
    "ExecuteTime": {
     "end_time": "2023-03-05T17:08:37.274803Z",
     "start_time": "2023-03-05T17:08:36.724351Z"
    }
   },
   "outputs": [],
   "source": [
    "import re \n",
    "from keras.models import load_model\n",
    "import pickle\n",
    "from tensorflow.keras.preprocessing.sequence import pad_sequences\n",
    "# input_text = \"\"\"\n",
    "# Rasa syukur, cukup.\n",
    "# \"\"\"\n",
    "\n",
    "def cleansing(sent):\n",
    "    # Mengubah kata menjadi huruf kecil semua dengan menggunakan fungsi lower()\n",
    "    string = sent.lower()\n",
    "    # Menghapus emoticon dan tanda baca menggunakan \"RegEx\" dengan script di bawah\n",
    "    string = re.sub(r'[^a-zA-Z0-9]', ' ', string)\n",
    "    return string\n",
    "\n",
    "with open(r\"C:\\Users\\rahad\\OneDrive\\Documents\\Binar Machine Learning - Platinum\\Challenge Platinum\\tokenizer.pickle\", 'rb') as handle:\n",
    "    LSTM_tokenizer = pickle.load(handle)\n",
    "    \n",
    "model_LSTM = load_model('')\n",
    "def pred(input_text):\n",
    "    sentiment = ['negative', 'neutral', 'positive']\n",
    "\n",
    "    text = [cleansing(input_text)]\n",
    "    predicted = LSTM_tokenizer.texts_to_sequences(text)\n",
    "    guess = pad_sequences(predicted, maxlen=96)\n",
    "\n",
    "    prediction = model_LSTM.predict(guess)\n",
    "    polarity = np.argmax(prediction[0])\n",
    "    result = sentiment[polarity]\n",
    "    return result"
   ]
  },
  {
   "cell_type": "code",
   "execution_count": 79,
   "id": "8cb0ea49",
   "metadata": {
    "ExecuteTime": {
     "end_time": "2023-03-05T17:08:52.966632Z",
     "start_time": "2023-03-05T17:08:52.904301Z"
    }
   },
   "outputs": [
    {
     "name": "stdout",
     "output_type": "stream",
     "text": [
      "1/1 [==============================] - 0s 28ms/step\n"
     ]
    },
    {
     "data": {
      "text/plain": [
       "'positive'"
      ]
     },
     "execution_count": 79,
     "metadata": {},
     "output_type": "execute_result"
    }
   ],
   "source": [
    "pred('rasa syukur, cukup')"
   ]
  },
  {
   "cell_type": "code",
   "execution_count": 88,
   "id": "4aecbb88",
   "metadata": {
    "ExecuteTime": {
     "end_time": "2023-03-05T17:10:07.997991Z",
     "start_time": "2023-03-05T17:10:07.934817Z"
    }
   },
   "outputs": [
    {
     "name": "stdout",
     "output_type": "stream",
     "text": [
      "1/1 [==============================] - 0s 11ms/step\n"
     ]
    },
    {
     "data": {
      "text/plain": [
       "'neutral'"
      ]
     },
     "execution_count": 88,
     "metadata": {},
     "output_type": "execute_result"
    }
   ],
   "source": [
    "pred('berencana pergi ke saudi')"
   ]
  },
  {
   "cell_type": "code",
   "execution_count": 100,
   "id": "d1497c14",
   "metadata": {
    "ExecuteTime": {
     "end_time": "2023-03-05T17:16:40.684284Z",
     "start_time": "2023-03-05T17:16:40.621320Z"
    }
   },
   "outputs": [
    {
     "name": "stdout",
     "output_type": "stream",
     "text": [
      "1/1 [==============================] - 0s 14ms/step\n"
     ]
    },
    {
     "data": {
      "text/plain": [
       "'negative'"
      ]
     },
     "execution_count": 100,
     "metadata": {},
     "output_type": "execute_result"
    }
   ],
   "source": [
    "pred(\"\"\"Eh, tadi pas ketemu dia kok ngomongin lu ya, kayaknya ada yang nggak beres deh\"\"\")"
   ]
  },
  {
   "cell_type": "code",
   "execution_count": 98,
   "id": "90311b40",
   "metadata": {
    "ExecuteTime": {
     "end_time": "2023-03-05T17:14:47.490867Z",
     "start_time": "2023-03-05T17:14:47.414282Z"
    }
   },
   "outputs": [
    {
     "name": "stdout",
     "output_type": "stream",
     "text": [
      "1/1 [==============================] - 0s 17ms/step\n"
     ]
    },
    {
     "data": {
      "text/plain": [
       "'positive'"
      ]
     },
     "execution_count": 98,
     "metadata": {},
     "output_type": "execute_result"
    }
   ],
   "source": [
    "pred(\"\"\"Bro, lu tuh gua kira anaknya sok tajir dan sombong, \n",
    "    ternyata lu ramah dan bisa diajak ngobrol, keren deh!\"\"\")"
   ]
  },
  {
   "cell_type": "code",
   "execution_count": 99,
   "id": "2a15febc",
   "metadata": {
    "ExecuteTime": {
     "end_time": "2023-03-05T17:15:45.946563Z",
     "start_time": "2023-03-05T17:15:45.872491Z"
    }
   },
   "outputs": [
    {
     "name": "stdout",
     "output_type": "stream",
     "text": [
      "1/1 [==============================] - 0s 7ms/step\n"
     ]
    },
    {
     "data": {
      "text/plain": [
       "'negative'"
      ]
     },
     "execution_count": 99,
     "metadata": {},
     "output_type": "execute_result"
    }
   ],
   "source": [
    "pred(\"\"\"Nih ada makanan, mending langsung dimakan atau disimpen dulu buat besok?\"\"\")"
   ]
  },
  {
   "cell_type": "code",
   "execution_count": 93,
   "id": "a9cbaa35",
   "metadata": {
    "ExecuteTime": {
     "end_time": "2023-03-05T17:10:52.970437Z",
     "start_time": "2023-03-05T17:10:52.909012Z"
    }
   },
   "outputs": [
    {
     "name": "stdout",
     "output_type": "stream",
     "text": [
      "1/1 [==============================] - 0s 30ms/step\n"
     ]
    },
    {
     "data": {
      "text/plain": [
       "'positive'"
      ]
     },
     "execution_count": 93,
     "metadata": {},
     "output_type": "execute_result"
    }
   ],
   "source": [
    "pred('aku mendukungmu kawan')"
   ]
  },
  {
   "cell_type": "code",
   "execution_count": 42,
   "id": "c846b3b9",
   "metadata": {
    "ExecuteTime": {
     "end_time": "2023-03-13T07:51:28.031955Z",
     "start_time": "2023-03-13T07:51:26.358651Z"
    }
   },
   "outputs": [],
   "source": [
    "import re \n",
    "from keras.models import load_model\n",
    "import pickle\n",
    "from tensorflow.keras.preprocessing.sequence import pad_sequences\n",
    "\n",
    "def cleansing(sent):\n",
    "    # Mengubah kata menjadi huruf kecil semua dengan menggunakan fungsi lower()\n",
    "    string = sent.lower()\n",
    "    # Menghapus emoticon dan tanda baca menggunakan \"RegEx\" dengan script di bawah\n",
    "    string = re.sub(r'[^a-zA-Z0-9]', ' ', string)\n",
    "    return string\n",
    "\n",
    "with open('data/tokenizer.pickle', 'rb') as handle:\n",
    "    LSTM_tokenizer = pickle.load(handle)\n",
    "    \n",
    "model_LSTM_2 = load_model('data/LSTM_89.h5')\n",
    "def pred(input_text):\n",
    "    sentiment = ['negative', 'neutral', 'positive']\n",
    "\n",
    "    text = [cleansing(input_text)]\n",
    "    predicted = LSTM_tokenizer.texts_to_sequences(text)\n",
    "    guess = pad_sequences(predicted, maxlen=96)\n",
    "    prediction = model_LSTM_2.predict(guess)\n",
    "    polarity = np.argmax(prediction[0])\n",
    "    result = sentiment[polarity]\n",
    "    return result"
   ]
  },
  {
   "cell_type": "code",
   "execution_count": 43,
   "id": "90704133",
   "metadata": {
    "ExecuteTime": {
     "end_time": "2023-03-13T07:51:29.090179Z",
     "start_time": "2023-03-13T07:51:29.065376Z"
    }
   },
   "outputs": [],
   "source": [
    "def pred(input_text):\n",
    "    sentiment = ['negative', 'neutral', 'positive']\n",
    "\n",
    "    text = [cleansing(input_text)]\n",
    "    predicted = LSTM_tokenizer.texts_to_sequences(text)\n",
    "    guess = pad_sequences(predicted, maxlen=96)\n",
    "    prediction = model.predict(guess)\n",
    "    polarity = np.argmax(prediction[0])\n",
    "    result = sentiment[polarity]\n",
    "    return result"
   ]
  },
  {
   "cell_type": "code",
   "execution_count": 51,
   "id": "73fe732c",
   "metadata": {
    "ExecuteTime": {
     "end_time": "2023-03-13T07:55:38.759230Z",
     "start_time": "2023-03-13T07:55:38.617732Z"
    }
   },
   "outputs": [
    {
     "name": "stdout",
     "output_type": "stream",
     "text": [
      "1/1 [==============================] - 0s 47ms/step\n"
     ]
    },
    {
     "data": {
      "text/plain": [
       "'negative'"
      ]
     },
     "execution_count": 51,
     "metadata": {},
     "output_type": "execute_result"
    }
   ],
   "source": [
    "pred('tidak kecewa')"
   ]
  },
  {
   "cell_type": "code",
   "execution_count": null,
   "id": "b79fed99",
   "metadata": {},
   "outputs": [],
   "source": []
  }
 ],
 "metadata": {
  "kernelspec": {
   "display_name": "Python 3 (ipykernel)",
   "language": "python",
   "name": "python3"
  },
  "language_info": {
   "codemirror_mode": {
    "name": "ipython",
    "version": 3
   },
   "file_extension": ".py",
   "mimetype": "text/x-python",
   "name": "python",
   "nbconvert_exporter": "python",
   "pygments_lexer": "ipython3",
   "version": "3.9.13"
  },
  "varInspector": {
   "cols": {
    "lenName": 16,
    "lenType": 16,
    "lenVar": 40
   },
   "kernels_config": {
    "python": {
     "delete_cmd_postfix": "",
     "delete_cmd_prefix": "del ",
     "library": "var_list.py",
     "varRefreshCmd": "print(var_dic_list())"
    },
    "r": {
     "delete_cmd_postfix": ") ",
     "delete_cmd_prefix": "rm(",
     "library": "var_list.r",
     "varRefreshCmd": "cat(var_dic_list()) "
    }
   },
   "types_to_exclude": [
    "module",
    "function",
    "builtin_function_or_method",
    "instance",
    "_Feature"
   ],
   "window_display": false
  }
 },
 "nbformat": 4,
 "nbformat_minor": 5
}
